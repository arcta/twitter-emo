{
 "cells": [
  {
   "cell_type": "markdown",
   "metadata": {},
   "source": [
    "# Processing\n",
    "For a test-app with a single producer (twitter-stream) and a single consumer (front-end) with no need to keep the data we go with **Redis** pub-sub as a message broker. (Redis is in-memory.) For production with multiple producers and consumers, high throughput, data persistance, and low tolerance for data loss we go with **Kafka**.\n",
    "\n",
    "#### Redis:\n",
    "* Fire and forget is ok\n",
    "* Speed is a main concern\n",
    "* Some data loss is tolerable\n",
    "* Data size is not that big\n",
    "\n",
    "#### Kafka:\n",
    "* Reliability is a big concern\n",
    "* Data persistence required\n",
    "* Speed is not a big concern\n",
    "* Data size is huge"
   ]
  },
  {
   "cell_type": "code",
   "execution_count": 16,
   "metadata": {},
   "outputs": [
    {
     "name": "stdout",
     "output_type": "stream",
     "text": [
      "import os\r\n",
      "import sys\r\n",
      "import redis\r\n",
      "import client\r\n",
      "\r\n",
      "\r\n",
      "if  __name__ =='__main__':\r\n",
      "    '''\r\n",
      "    QUERY: keyword1,keyword2,...\r\n",
      "    run: python stream-redis.py QUERY GEO LIM\r\n",
      "    '''\r\n",
      "    pub = redis\\\r\n",
      "        .StrictRedis(password = os.environ['REDIS_PASS'],\r\n",
      "                     host = os.environ['REDIS_HOST'],\r\n",
      "                     port = os.environ['REDIS_PORT'],\r\n",
      "                     db = 0)\r\n",
      "    query = ''\r\n",
      "    if len(sys.argv) > 1:\r\n",
      "        query = sys.argv[1]\r\n",
      "\r\n",
      "    geo = False\r\n",
      "    if len(sys.argv) > 2:\r\n",
      "        geo = True\r\n",
      "\r\n",
      "    lim = False\r\n",
      "    if len(sys.argv) > 3 and int(sys.argv[3]) > 0:\r\n",
      "        lim = int(sys.argv[3])\r\n",
      "\r\n",
      "    twitter = client.TwitterClient()\r\n",
      "    twitter.stream(query,\r\n",
      "                   geo = geo,\r\n",
      "                   broadcast = lambda data: pub.publish('twitter', data),\r\n",
      "                   limit = lim)\r\n"
     ]
    }
   ],
   "source": [
    "!cat stream-redis.py"
   ]
  },
  {
   "cell_type": "markdown",
   "metadata": {},
   "source": [
    "### Distributed Computation\n",
    "[](https://kafka-python.readthedocs.io/en/master/index.html)"
   ]
  },
  {
   "cell_type": "code",
   "execution_count": null,
   "metadata": {
    "collapsed": true
   },
   "outputs": [],
   "source": [
    "#!pip install pyspark\n",
    "#!pip install kafka-python"
   ]
  },
  {
   "cell_type": "code",
   "execution_count": null,
   "metadata": {
    "collapsed": true
   },
   "outputs": [],
   "source": [
    "from pyspark import SparkContext\n",
    "from pyspark.streaming import StreamingContext\n",
    "from pyspark.sql import SQLContext\n",
    "from pyspark.sql.functions import desc\n",
    "from collections import namedtuple"
   ]
  },
  {
   "cell_type": "code",
   "execution_count": null,
   "metadata": {
    "collapsed": true
   },
   "outputs": [],
   "source": [
    "sc = SparkContext()"
   ]
  },
  {
   "cell_type": "code",
   "execution_count": null,
   "metadata": {
    "collapsed": true
   },
   "outputs": [],
   "source": [
    "ssc = StreamingContext(sc, 10)\n",
    "sqlContext = SQLContext(sc)\n",
    "ssc.checkpoint('/tmp/checkpoint')"
   ]
  },
  {
   "cell_type": "code",
   "execution_count": null,
   "metadata": {
    "collapsed": true
   },
   "outputs": [],
   "source": [
    "PORT = 9999\n",
    "stream = ssc.socketTextStream(os.environ['NODEIP'], PORT)"
   ]
  },
  {
   "cell_type": "code",
   "execution_count": null,
   "metadata": {
    "collapsed": true
   },
   "outputs": [],
   "source": [
    "lines = stream.window(10)\n",
    "fields = ('tag', 'count')\n",
    "Tweet = namedtuple('Tweet', fields)"
   ]
  },
  {
   "cell_type": "code",
   "execution_count": null,
   "metadata": {
    "collapsed": true
   },
   "outputs": [],
   "source": [
    "import json\n",
    "\n",
    "(lines.flatMap( lambda msg: json.loads(msg)['text'].split(' '))\n",
    "    .filter( lambda word: word.lower().startswith('#'))\n",
    "    .map( lambda word: ( word.lower(), 1 ))\n",
    "    .reduceByKey( lambda a, b: a + b )\n",
    "    .map( lambda rec: Tweet( rec[0], rec[1] ))\n",
    "    .foreachRDD( lambda rdd: rdd.toDF().sort(desc('count'))\n",
    "        .limit(10).registerTempTable('tweets')))"
   ]
  },
  {
   "cell_type": "code",
   "execution_count": null,
   "metadata": {
    "collapsed": true
   },
   "outputs": [],
   "source": [
    "# python stream-socket.py QUERY GEO PORT\n",
    "!cat stream-socket.py"
   ]
  },
  {
   "cell_type": "code",
   "execution_count": null,
   "metadata": {
    "collapsed": true
   },
   "outputs": [],
   "source": [
    "ssc.start()"
   ]
  },
  {
   "cell_type": "code",
   "execution_count": null,
   "metadata": {
    "collapsed": true
   },
   "outputs": [],
   "source": [
    "import time\n",
    "from IPython import display\n",
    "import matplotlib.pyplot as plt\n",
    "%matplotlib inline\n",
    "\n",
    "time.sleep(30)\n",
    "top10 = sqlContext.sql('select tag, count from tweets')\n",
    "\n",
    "plt.rcParams['figure.figsize'] = (16, 6)\n",
    "fig, ax = plt.subplots()\n",
    "top10 = top10.toPandas()\n",
    "tags = top10['tag']\n",
    "Y = [i for i in range(len(tags))]\n",
    "X = top10['count']\n",
    "\n",
    "ax.barh(Y, X, align='center', color='teal')\n",
    "ax.set_yticks(Y)\n",
    "ax.set_yticklabels(tags)\n",
    "ax.invert_yaxis()\n",
    "ax.set_xlabel('Count')\n",
    "ax.set_title('Top Hashtags')\n",
    "\n",
    "plt.show()"
   ]
  },
  {
   "cell_type": "code",
   "execution_count": null,
   "metadata": {
    "collapsed": true
   },
   "outputs": [],
   "source": []
  }
 ],
 "metadata": {
  "kernelspec": {
   "display_name": "Python 3",
   "language": "python",
   "name": "python3"
  },
  "language_info": {
   "codemirror_mode": {
    "name": "ipython",
    "version": 3
   },
   "file_extension": ".py",
   "mimetype": "text/x-python",
   "name": "python",
   "nbconvert_exporter": "python",
   "pygments_lexer": "ipython3",
   "version": "3.5.2"
  }
 },
 "nbformat": 4,
 "nbformat_minor": 2
}
