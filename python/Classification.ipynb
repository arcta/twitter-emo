{
 "cells": [
  {
   "cell_type": "markdown",
   "metadata": {},
   "source": [
    "# Classification\n",
    "Using emoji to derive a twit sentiment is obvious; this exercise explores the opposite: [given plain text infer emoji](https://arxiv.org/abs/1702.07285). Taking in account that the word space and emotion attached might be almost orthogonal (emoticons are used to add information, rather then simply reflect the text), we reformulate the problem as `which`: lexical or non-lexical semantics have more weight in this relation."
   ]
  },
  {
   "cell_type": "code",
   "execution_count": 1,
   "metadata": {},
   "outputs": [],
   "source": [
    "STRUCTURE_OVER_CONTENT = True # non-lexical semantics"
   ]
  },
  {
   "cell_type": "code",
   "execution_count": 2,
   "metadata": {},
   "outputs": [],
   "source": [
    "import os\n",
    "import re\n",
    "import numpy as np\n",
    "import pandas as pd\n",
    "from nltk.stem import SnowballStemmer, PorterStemmer\n",
    "\n",
    "import matplotlib.pyplot as plt\n",
    "%matplotlib inline"
   ]
  },
  {
   "cell_type": "markdown",
   "metadata": {},
   "source": [
    "Data was gathered by streaming twitter for an hour with empty query string on several days:"
   ]
  },
  {
   "cell_type": "code",
   "execution_count": 3,
   "metadata": {},
   "outputs": [
    {
     "name": "stdout",
     "output_type": "stream",
     "text": [
      "import os\r\n",
      "import re\r\n",
      "import sys\r\n",
      "import time\r\n",
      "import json\r\n",
      "import client\r\n",
      "from datetime import date\r\n",
      "\r\n",
      "\r\n",
      "if  __name__ =='__main__':\r\n",
      "\r\n",
      "    lang = 'en'\r\n",
      "    if len(sys.argv) > 1:\r\n",
      "        lang = sys.argv[1]\r\n",
      "\r\n",
      "    lim = 1000000\r\n",
      "    if len(sys.argv) > 2:\r\n",
      "        lim = int(sys.argv[2])\r\n",
      "    \r\n",
      "    score = {}\r\n",
      "    with open('emo-list.txt','r') as source:\r\n",
      "        score = { chr(int(c)):{ 'total':0, 'positive':0, 'negative':0 }\r\n",
      "                      for c in source.read().strip().split() }\r\n",
      "\r\n",
      "    with open('data/{}/{}.csv'.format(lang, date.today().isoformat()), 'w') as output:\r\n",
      "        output.write('text,emo\\n')\r\n",
      "\r\n",
      "        def extract(data):\r\n",
      "            try:\r\n",
      "                obj = json.loads(data)\r\n",
      "                if obj['lang'] == lang: # remove links and non-word characters\r\n",
      "                    words = re.sub(\"'\", '', re.sub('(@\\S+)|(https?\\://\\S+)|([\\W\\d_]+)', ' ',\r\n",
      "                                                   obj['text'].lower())).split()\r\n",
      "                    if len(words) > 0:\r\n",
      "                        emo = { c:1 for c in obj['text'].lower() if c in score }\r\n",
      "                        emo = list(emo.keys())\r\n",
      "                        if len(emo) > 0:\r\n",
      "                            output.write('{},{}\\n'.format(' '.join(words), ' '.join(emo)))\r\n",
      "            except:\r\n",
      "                pass\r\n",
      "\r\n",
      "        twitter = client.TwitterClient()\r\n",
      "        twitter.stream('', geo = False, broadcast = extract, count = lim, timer = 3600)\r\n",
      "        time.sleep(3600) # keep output file open while streaming\r\n"
     ]
    }
   ],
   "source": [
    "!cat gather.py"
   ]
  },
  {
   "cell_type": "code",
   "execution_count": 4,
   "metadata": {},
   "outputs": [
    {
     "name": "stdout",
     "output_type": "stream",
     "text": [
      "(185269, 2)\n"
     ]
    },
    {
     "data": {
      "text/html": [
       "<div>\n",
       "<style scoped>\n",
       "    .dataframe tbody tr th:only-of-type {\n",
       "        vertical-align: middle;\n",
       "    }\n",
       "\n",
       "    .dataframe tbody tr th {\n",
       "        vertical-align: top;\n",
       "    }\n",
       "\n",
       "    .dataframe thead th {\n",
       "        text-align: right;\n",
       "    }\n",
       "</style>\n",
       "<table border=\"1\" class=\"dataframe\">\n",
       "  <thead>\n",
       "    <tr style=\"text-align: right;\">\n",
       "      <th></th>\n",
       "      <th>text</th>\n",
       "      <th>emo</th>\n",
       "    </tr>\n",
       "  </thead>\n",
       "  <tbody>\n",
       "    <tr>\n",
       "      <th>0</th>\n",
       "      <td>lil sis said what s a budget this day gone be ...</td>\n",
       "      <td>😌</td>\n",
       "    </tr>\n",
       "    <tr>\n",
       "      <th>1</th>\n",
       "      <td>you better add the because columbia md lit</td>\n",
       "      <td>✊</td>\n",
       "    </tr>\n",
       "    <tr>\n",
       "      <th>2</th>\n",
       "      <td>better no medicine for my heart i find it teri...</td>\n",
       "      <td>😬</td>\n",
       "    </tr>\n",
       "    <tr>\n",
       "      <th>3</th>\n",
       "      <td>fell in love and been loved i can really do wi...</td>\n",
       "      <td>👐</td>\n",
       "    </tr>\n",
       "    <tr>\n",
       "      <th>4</th>\n",
       "      <td>omg another great moment my heart i m dying th...</td>\n",
       "      <td>😘 😱</td>\n",
       "    </tr>\n",
       "  </tbody>\n",
       "</table>\n",
       "</div>"
      ],
      "text/plain": [
       "                                                text  emo\n",
       "0  lil sis said what s a budget this day gone be ...    😌\n",
       "1         you better add the because columbia md lit    ✊\n",
       "2  better no medicine for my heart i find it teri...    😬\n",
       "3  fell in love and been loved i can really do wi...    👐\n",
       "4  omg another great moment my heart i m dying th...  😘 😱"
      ]
     },
     "execution_count": 4,
     "metadata": {},
     "output_type": "execute_result"
    }
   ],
   "source": [
    "data = None\n",
    "\n",
    "for (dirpath, dirnames, filenames) in os.walk('data/en'):\n",
    "    for f in filenames:\n",
    "        if data is None:\n",
    "            data = pd.read_csv('data/en/{}'.format(f))\n",
    "        else:\n",
    "            data = data.append(pd.read_csv('data/en/{}'.format(f)), ignore_index = True)\n",
    "    break\n",
    "\n",
    "print(data.shape)\n",
    "data.head()"
   ]
  },
  {
   "cell_type": "code",
   "execution_count": 5,
   "metadata": {},
   "outputs": [],
   "source": [
    "data['label'] = data['emo'].apply(lambda x: x.split()[0])"
   ]
  },
  {
   "cell_type": "code",
   "execution_count": 6,
   "metadata": {},
   "outputs": [
    {
     "data": {
      "text/plain": [
       "label\n",
       "😂    26236\n",
       "😭     7454\n",
       "❤     6411\n",
       "😍     5853\n",
       "😩     4066\n",
       "🙄     3541\n",
       "🤔     3392\n",
       "♀     2788\n",
       "😊     2685\n",
       "🤷     2617\n",
       "dtype: int64"
      ]
     },
     "execution_count": 6,
     "metadata": {},
     "output_type": "execute_result"
    }
   ],
   "source": [
    "counts = data.groupby('label').size().sort_values(ascending = False)\n",
    "counts.head(10)"
   ]
  },
  {
   "cell_type": "code",
   "execution_count": 7,
   "metadata": {},
   "outputs": [
    {
     "data": {
      "text/plain": [
       "['😂', '😭', '❤', '😍', '😩', '🙄', '🤔']"
      ]
     },
     "execution_count": 7,
     "metadata": {},
     "output_type": "execute_result"
    }
   ],
   "source": [
    "labels = counts.index.tolist()[:7]\n",
    "labels"
   ]
  },
  {
   "cell_type": "code",
   "execution_count": 8,
   "metadata": {},
   "outputs": [
    {
     "data": {
      "text/plain": [
       "(185269, 4)"
      ]
     },
     "execution_count": 8,
     "metadata": {},
     "output_type": "execute_result"
    }
   ],
   "source": [
    "# twits with single emoticon\n",
    "data['stats'] = data['label'].apply(lambda x: len(x))\n",
    "data = data[data['stats'] == 1]\n",
    "data.shape"
   ]
  },
  {
   "cell_type": "code",
   "execution_count": 9,
   "metadata": {},
   "outputs": [
    {
     "data": {
      "text/plain": [
       "(56953, 4)"
      ]
     },
     "execution_count": 9,
     "metadata": {},
     "output_type": "execute_result"
    }
   ],
   "source": [
    "# only labels (most frequent)\n",
    "data = data[(data['label'].isin(labels))]\n",
    "data.shape"
   ]
  },
  {
   "cell_type": "code",
   "execution_count": 10,
   "metadata": {},
   "outputs": [],
   "source": [
    "# normalize words\n",
    "snowball = SnowballStemmer('english')\n",
    "porter = PorterStemmer()\n",
    "\n",
    "def stem(word):\n",
    "    #return snowball.stem(word)\n",
    "    return porter.stem(word)\n",
    "\n",
    "data['words'] = data['text'].apply(lambda x: [stem(word) for word in x.split()])"
   ]
  },
  {
   "cell_type": "code",
   "execution_count": 11,
   "metadata": {},
   "outputs": [],
   "source": [
    "counts = {}\n",
    "\n",
    "def proc(words):\n",
    "    for word in words:\n",
    "        counts[word] = counts.get(word, 0) + 1\n",
    "\n",
    "_ = data['words'].apply(proc)"
   ]
  },
  {
   "cell_type": "code",
   "execution_count": 12,
   "metadata": {},
   "outputs": [
    {
     "data": {
      "image/png": "[encoded data removed]",
      "text/plain": [
       "<matplotlib.figure.Figure at 0x7ff7f97c8f98>"
      ]
     },
     "metadata": {},
     "output_type": "display_data"
    }
   ],
   "source": [
    "plt.rcParams['figure.figsize'] = (16, 4)\n",
    "\n",
    "fig, ax = plt.subplots(nrows = 1, ncols = 3)\n",
    "ax = ax.flatten()\n",
    "freq = [ w[1] for w in sorted(counts.items(), key = lambda x:x[1], reverse = True) ]\n",
    "\n",
    "ax[0].plot(range(100), freq[:100])\n",
    "ax[0].set_title('Word counts distribution head: :100')\n",
    "ax[0].set_ylabel('count')\n",
    "ax[0].set_xlabel('index')\n",
    "\n",
    "ax[1].plot(range(100, 1000), freq[100:1000])\n",
    "ax[1].set_title('Word counts distribution: 100:1000')\n",
    "ax[1].set_ylabel('count')\n",
    "ax[1].set_xlabel('index')\n",
    "\n",
    "ax[2].plot(range(1000, len(freq)), freq[1000:])\n",
    "ax[2].set_title('Word counts distribution tail: 1000:')\n",
    "ax[2].set_ylabel('count')\n",
    "ax[2].set_xlabel('index')\n",
    "\n",
    "plt.show()"
   ]
  },
  {
   "cell_type": "code",
   "execution_count": 13,
   "metadata": {},
   "outputs": [],
   "source": [
    "CUTOFF_TAIL_COUNT = 2 * len(labels) if STRUCTURE_OVER_CONTENT else len(labels)\n",
    "CUTOFF_HEAD_INDEX = 0 if STRUCTURE_OVER_CONTENT else 20"
   ]
  },
  {
   "cell_type": "markdown",
   "metadata": {},
   "source": [
    "For lexical semantics (`content`) we put more weight on `meaningful` words and less on sequence structure: bigger vocabulary and shorter embeddings. For non-lexical (`structure`) semantics we do not remove most common (usually structural) words, but do remove more from the tail part of vocabulary."
   ]
  },
  {
   "cell_type": "code",
   "execution_count": 14,
   "metadata": {},
   "outputs": [
    {
     "data": {
      "text/plain": [
       "2587"
      ]
     },
     "execution_count": 14,
     "metadata": {},
     "output_type": "execute_result"
    }
   ],
   "source": [
    "# remove tail (unique, made-up, misspelled, wrong lang, etc.)\n",
    "vocabulary = [ w for w,c in sorted(counts.items(), key = lambda x:x[1], reverse = True)\n",
    "                  if c >= CUTOFF_TAIL_COUNT ][CUTOFF_HEAD_INDEX:]\n",
    "len(vocabulary)"
   ]
  },
  {
   "cell_type": "code",
   "execution_count": 15,
   "metadata": {},
   "outputs": [],
   "source": [
    "# make sure we have some either CONTENT or STRUCTURE left\n",
    "data['stats'] = data['words'].apply(lambda x: len([w for w in x if w in vocabulary]))\n",
    "data = data[data['stats'] > 0]"
   ]
  },
  {
   "cell_type": "code",
   "execution_count": 16,
   "metadata": {},
   "outputs": [
    {
     "data": {
      "text/plain": [
       "[25837, 7358, 6276, 5675, 4026, 3510, 3360]"
      ]
     },
     "execution_count": 16,
     "metadata": {},
     "output_type": "execute_result"
    }
   ],
   "source": [
    "total = data.groupby('label').size().sort_values(ascending = False).tolist()\n",
    "total"
   ]
  },
  {
   "cell_type": "code",
   "execution_count": 17,
   "metadata": {},
   "outputs": [
    {
     "data": {
      "text/plain": [
       "(180859, 2)"
      ]
     },
     "execution_count": 17,
     "metadata": {},
     "output_type": "execute_result"
    }
   ],
   "source": [
    "# resample with replacement for balanced representation\n",
    "balanced = data[data['label'] == labels[0]][['words','label']]\n",
    "for i in range(1, len(labels)):\n",
    "    balanced = balanced.append(\n",
    "        data[data['label'] == labels[i]]\\\n",
    "                .sample(max(total), replace = True)\\\n",
    "                .loc[:,('words','label')], ignore_index = True)\n",
    "balanced.shape"
   ]
  },
  {
   "cell_type": "code",
   "execution_count": 18,
   "metadata": {},
   "outputs": [
    {
     "data": {
      "text/html": [
       "<div>\n",
       "<style scoped>\n",
       "    .dataframe tbody tr th:only-of-type {\n",
       "        vertical-align: middle;\n",
       "    }\n",
       "\n",
       "    .dataframe tbody tr th {\n",
       "        vertical-align: top;\n",
       "    }\n",
       "\n",
       "    .dataframe thead th {\n",
       "        text-align: right;\n",
       "    }\n",
       "</style>\n",
       "<table border=\"1\" class=\"dataframe\">\n",
       "  <thead>\n",
       "    <tr style=\"text-align: right;\">\n",
       "      <th></th>\n",
       "      <th>words</th>\n",
       "      <th>label</th>\n",
       "    </tr>\n",
       "  </thead>\n",
       "  <tbody>\n",
       "    <tr>\n",
       "      <th>130343</th>\n",
       "      <td>[i, get, out, your, heart]</td>\n",
       "      <td>🙄</td>\n",
       "    </tr>\n",
       "    <tr>\n",
       "      <th>47769</th>\n",
       "      <td>[im, die]</td>\n",
       "      <td>😭</td>\n",
       "    </tr>\n",
       "    <tr>\n",
       "      <th>36094</th>\n",
       "      <td>[i, hate, drive, with, the, sun, in, my, eye]</td>\n",
       "      <td>😭</td>\n",
       "    </tr>\n",
       "    <tr>\n",
       "      <th>107129</th>\n",
       "      <td>[i, needa, learn, how, to, save]</td>\n",
       "      <td>😩</td>\n",
       "    </tr>\n",
       "    <tr>\n",
       "      <th>76188</th>\n",
       "      <td>[happi, birthday, to, the, wee, brother, have,...</td>\n",
       "      <td>❤</td>\n",
       "    </tr>\n",
       "  </tbody>\n",
       "</table>\n",
       "</div>"
      ],
      "text/plain": [
       "                                                    words label\n",
       "130343                         [i, get, out, your, heart]     🙄\n",
       "47769                                           [im, die]     😭\n",
       "36094       [i, hate, drive, with, the, sun, in, my, eye]     😭\n",
       "107129                   [i, needa, learn, how, to, save]     😩\n",
       "76188   [happi, birthday, to, the, wee, brother, have,...     ❤"
      ]
     },
     "execution_count": 18,
     "metadata": {},
     "output_type": "execute_result"
    }
   ],
   "source": [
    "balanced = balanced.sample(frac = 1) # shuffle\n",
    "balanced.head()"
   ]
  },
  {
   "cell_type": "code",
   "execution_count": null,
   "metadata": {},
   "outputs": [],
   "source": [
    "from keras.models import Sequential\n",
    "from keras.layers import Dense, LSTM, GRU, Dropout\n",
    "from keras.layers.embeddings import Embedding\n",
    "from keras.preprocessing import sequence, text"
   ]
  },
  {
   "cell_type": "code",
   "execution_count": 20,
   "metadata": {},
   "outputs": [
    {
     "data": {
      "text/plain": [
       "['i', 'the', 'to', 'you', 'my', 'a', 'and', 'it', 'thi', 'me']"
      ]
     },
     "execution_count": 20,
     "metadata": {},
     "output_type": "execute_result"
    }
   ],
   "source": [
    "vocabulary[:10]"
   ]
  },
  {
   "cell_type": "code",
   "execution_count": 21,
   "metadata": {},
   "outputs": [
    {
     "data": {
      "text/plain": [
       "['string',\n",
       " 'trigger',\n",
       " 'youu',\n",
       " 'du',\n",
       " 'retard',\n",
       " 'centr',\n",
       " 'lex',\n",
       " 'frozen',\n",
       " 'anxieti',\n",
       " 'pill']"
      ]
     },
     "execution_count": 21,
     "metadata": {},
     "output_type": "execute_result"
    }
   ],
   "source": [
    "vocabulary[-10:]"
   ]
  },
  {
   "cell_type": "code",
   "execution_count": 22,
   "metadata": {},
   "outputs": [],
   "source": [
    "# remove most common\n",
    "LV = len(vocabulary) - CUTOFF_HEAD_INDEX\n",
    "index = { vocabulary[i]:i - CUTOFF_HEAD_INDEX for i in range(CUTOFF_HEAD_INDEX, len(vocabulary)) }"
   ]
  },
  {
   "cell_type": "markdown",
   "metadata": {},
   "source": [
    "For structural semantics we allow `holes` in the sequence: words which did not make into vocabulary will keep the place in embedding but indexed with zero (same as padding places)."
   ]
  },
  {
   "cell_type": "code",
   "execution_count": 23,
   "metadata": {},
   "outputs": [],
   "source": [
    "if STRUCTURE_OVER_CONTENT:\n",
    "    X = balanced['words'].apply(lambda x: [index.get(word, -1) + 1 for word in x])\n",
    "else:\n",
    "    X = balanced['words'].apply(lambda x: [index[word] + 1 for word in x if word in index])"
   ]
  },
  {
   "cell_type": "code",
   "execution_count": 24,
   "metadata": {},
   "outputs": [
    {
     "data": {
      "text/plain": [
       "130343                                 [1, 26, 47, 42, 250]\n",
       "47769                                            [142, 241]\n",
       "36094                [1, 144, 378, 27, 2, 1173, 14, 5, 395]\n",
       "107129                           [1, 1732, 562, 52, 3, 541]\n",
       "76188     [75, 127, 3, 2, 1852, 352, 30, 6, 322, 48, 193...\n",
       "Name: words, dtype: object"
      ]
     },
     "execution_count": 24,
     "metadata": {},
     "output_type": "execute_result"
    }
   ],
   "source": [
    "X[:5]"
   ]
  },
  {
   "cell_type": "code",
   "execution_count": 25,
   "metadata": {},
   "outputs": [
    {
     "data": {
      "text/plain": [
       "36"
      ]
     },
     "execution_count": 25,
     "metadata": {},
     "output_type": "execute_result"
    }
   ],
   "source": [
    "# embeddings length\n",
    "LE = int(X.apply(lambda x: len(x)).max())\n",
    "LE"
   ]
  },
  {
   "cell_type": "code",
   "execution_count": 26,
   "metadata": {},
   "outputs": [
    {
     "data": {
      "text/plain": [
       "(180859,)"
      ]
     },
     "execution_count": 26,
     "metadata": {},
     "output_type": "execute_result"
    }
   ],
   "source": [
    "X.shape"
   ]
  },
  {
   "cell_type": "code",
   "execution_count": 27,
   "metadata": {},
   "outputs": [
    {
     "data": {
      "text/plain": [
       "array([[   0,    0,    0,    0,    0,    0,    0,    0,    0,    0,    0,\n",
       "           0,    0,    0,    0,    0,    0,    0,    0,    0,    0,    0,\n",
       "           0,    0,    0,    0,    0,    0,    0,    0,    0,    1,   26,\n",
       "          47,   42,  250],\n",
       "       [   0,    0,    0,    0,    0,    0,    0,    0,    0,    0,    0,\n",
       "           0,    0,    0,    0,    0,    0,    0,    0,    0,    0,    0,\n",
       "           0,    0,    0,    0,    0,    0,    0,    0,    0,    0,    0,\n",
       "           0,  142,  241],\n",
       "       [   0,    0,    0,    0,    0,    0,    0,    0,    0,    0,    0,\n",
       "           0,    0,    0,    0,    0,    0,    0,    0,    0,    0,    0,\n",
       "           0,    0,    0,    0,    0,    1,  144,  378,   27,    2, 1173,\n",
       "          14,    5,  395],\n",
       "       [   0,    0,    0,    0,    0,    0,    0,    0,    0,    0,    0,\n",
       "           0,    0,    0,    0,    0,    0,    0,    0,    0,    0,    0,\n",
       "           0,    0,    0,    0,    0,    0,    0,    0,    1, 1732,  562,\n",
       "          52,    3,  541],\n",
       "       [   0,    0,    0,    0,    0,    0,    0,    0,    0,    0,    0,\n",
       "           0,    0,    0,    0,   75,  127,    3,    2, 1852,  352,   30,\n",
       "           6,  322,   48,  193,    1,  118,   58,    4,  590,    2,   48,\n",
       "          22,   92,    0]], dtype=int32)"
      ]
     },
     "execution_count": 27,
     "metadata": {},
     "output_type": "execute_result"
    }
   ],
   "source": [
    "X = sequence.pad_sequences(X, maxlen = LE)\n",
    "X[:5]"
   ]
  },
  {
   "cell_type": "code",
   "execution_count": 28,
   "metadata": {},
   "outputs": [
    {
     "data": {
      "text/plain": [
       "array([[0., 0., 0., 0., 0., 1., 0.],\n",
       "       [0., 1., 0., 0., 0., 0., 0.],\n",
       "       [0., 1., 0., 0., 0., 0., 0.],\n",
       "       [0., 0., 0., 0., 1., 0., 0.],\n",
       "       [0., 0., 1., 0., 0., 0., 0.]])"
      ]
     },
     "execution_count": 28,
     "metadata": {},
     "output_type": "execute_result"
    }
   ],
   "source": [
    "Y = np.zeros((len(X), len(labels)))\n",
    "for e in labels:\n",
    "    Y[:,labels.index(e)] = (balanced['label'] == e).astype('int32')\n",
    "Y[:5]"
   ]
  },
  {
   "cell_type": "markdown",
   "metadata": {},
   "source": [
    "### Model"
   ]
  },
  {
   "cell_type": "code",
   "execution_count": 29,
   "metadata": {},
   "outputs": [],
   "source": [
    "LY = len(labels)\n",
    "\n",
    "# parameters\n",
    "dropout = 0.1\n",
    "epochs = 100\n",
    "batch_size = 1024"
   ]
  },
  {
   "cell_type": "code",
   "execution_count": 30,
   "metadata": {},
   "outputs": [],
   "source": [
    "model = Sequential()\n",
    "model.add(Embedding(LV + 1, LY, input_length = LE))\n",
    "#model.add(LSTM(LY, return_sequences = True, input_shape = (LE, LV + 1), dropout = dropout))\n",
    "model.add(LSTM(LY, dropout = dropout, recurrent_dropout = dropout))\n",
    "model.add(Dense(LY, activation = 'softmax'))\n",
    "\n",
    "model.compile(loss = 'categorical_crossentropy', optimizer = 'rmsprop', metrics = ['accuracy'])\n",
    "history = model.fit(X, Y, epochs = epochs, batch_size = batch_size, validation_split = 0.1, verbose = 0)"
   ]
  },
  {
   "cell_type": "code",
   "execution_count": 31,
   "metadata": {},
   "outputs": [
    {
     "data": {
      "image/png": "[encoded data removed]",
      "text/plain": [
       "<matplotlib.figure.Figure at 0x7f32a341a550>"
      ]
     },
     "metadata": {},
     "output_type": "display_data"
    }
   ],
   "source": [
    "plt.rcParams['figure.figsize'] = (16, 4)\n",
    "\n",
    "fig, ax = plt.subplots(nrows = 1, ncols = 2)\n",
    "ax = ax.flatten()\n",
    "\n",
    "ax[0].plot(history.history['acc'], label = 'train')\n",
    "ax[0].plot(history.history['val_acc'], label = 'test')\n",
    "ax[0].set_title('model accuracy')\n",
    "ax[0].set_ylabel('accuracy')\n",
    "ax[0].set_xlabel('epoch')\n",
    "ax[0].legend(loc = 'lower right')\n",
    "\n",
    "ax[1].plot(history.history['loss'], label = 'train')\n",
    "ax[1].plot(history.history['val_loss'], label = 'test')\n",
    "ax[1].set_title('model loss')\n",
    "ax[1].set_ylabel('loss')\n",
    "ax[1].set_xlabel('epoch')\n",
    "ax[1].legend(loc = 'upper right')\n",
    "\n",
    "plt.show()"
   ]
  },
  {
   "cell_type": "code",
   "execution_count": 32,
   "metadata": {},
   "outputs": [
    {
     "name": "stdout",
     "output_type": "stream",
     "text": [
      "Final epoch accuracy: 0.5197 (train) 0.5250 (validation)\n"
     ]
    }
   ],
   "source": [
    "print('Final epoch accuracy: {:.4f} (train) {:.4f} (validation)'\\\n",
    "    .format(history.history['acc'][-1], history.history['val_acc'][-1]))"
   ]
  },
  {
   "cell_type": "markdown",
   "metadata": {},
   "source": [
    "### Test"
   ]
  },
  {
   "cell_type": "code",
   "execution_count": 33,
   "metadata": {},
   "outputs": [
    {
     "data": {
      "text/plain": [
       "(3803, 3)"
      ]
     },
     "execution_count": 33,
     "metadata": {},
     "output_type": "execute_result"
    }
   ],
   "source": [
    "test = pd.read_csv('data/test.csv')\n",
    "\n",
    "test = test[(test['emo'].isin(labels))]\n",
    "test['words'] = test['text'].apply(lambda x: [stem(word) for word in x.split()])\n",
    "test.shape"
   ]
  },
  {
   "cell_type": "code",
   "execution_count": 34,
   "metadata": {},
   "outputs": [],
   "source": [
    "if STRUCTURE_OVER_CONTENT:\n",
    "    X = test['words'].apply(lambda x: [index.get(word, -1) + 1 for word in x])\n",
    "else:\n",
    "    X = test['words'].apply(lambda x: [index[word] + 1 for word in x if word in index])\n",
    "\n",
    "X = sequence.pad_sequences(X, maxlen = LE)"
   ]
  },
  {
   "cell_type": "code",
   "execution_count": 35,
   "metadata": {},
   "outputs": [],
   "source": [
    "Y = np.zeros((len(X), len(labels)))\n",
    "for e in labels:\n",
    "    Y[:,labels.index(e)] = (test['emo'] == e).astype('int32')"
   ]
  },
  {
   "cell_type": "code",
   "execution_count": 36,
   "metadata": {},
   "outputs": [],
   "source": [
    "prediction = model.predict_classes(X)"
   ]
  },
  {
   "cell_type": "code",
   "execution_count": 37,
   "metadata": {},
   "outputs": [
    {
     "name": "stdout",
     "output_type": "stream",
     "text": [
      "Test accuracy: 0.3247\n"
     ]
    }
   ],
   "source": [
    "# prediction accuracy\n",
    "acc = (Y.argmax(1) == prediction).astype('int32').sum()/len(Y)\n",
    "print('Test accuracy: {:.4f}'.format(acc))"
   ]
  },
  {
   "cell_type": "code",
   "execution_count": 38,
   "metadata": {},
   "outputs": [],
   "source": [
    "test['prediction'] = prediction\n",
    "test['prediction'] = test['prediction'].apply(lambda x: labels[x])"
   ]
  },
  {
   "cell_type": "code",
   "execution_count": 39,
   "metadata": {},
   "outputs": [
    {
     "data": {
      "text/html": [
       "<div>\n",
       "<style scoped>\n",
       "    .dataframe tbody tr th:only-of-type {\n",
       "        vertical-align: middle;\n",
       "    }\n",
       "\n",
       "    .dataframe tbody tr th {\n",
       "        vertical-align: top;\n",
       "    }\n",
       "\n",
       "    .dataframe thead th {\n",
       "        text-align: right;\n",
       "    }\n",
       "</style>\n",
       "<table border=\"1\" class=\"dataframe\">\n",
       "  <thead>\n",
       "    <tr style=\"text-align: right;\">\n",
       "      <th></th>\n",
       "      <th>text</th>\n",
       "      <th>emo</th>\n",
       "      <th>prediction</th>\n",
       "    </tr>\n",
       "  </thead>\n",
       "  <tbody>\n",
       "    <tr>\n",
       "      <th>1</th>\n",
       "      <td>fans couth my god my god</td>\n",
       "      <td>😍</td>\n",
       "      <td>❤</td>\n",
       "    </tr>\n",
       "    <tr>\n",
       "      <th>4</th>\n",
       "      <td>i love him lord</td>\n",
       "      <td>❤</td>\n",
       "      <td>😍</td>\n",
       "    </tr>\n",
       "    <tr>\n",
       "      <th>24</th>\n",
       "      <td>if sex is of the relationship that explains wh...</td>\n",
       "      <td>😭</td>\n",
       "      <td>🙄</td>\n",
       "    </tr>\n",
       "    <tr>\n",
       "      <th>33</th>\n",
       "      <td>second eye exam until i find out if i ll be ok...</td>\n",
       "      <td>😍</td>\n",
       "      <td>🙄</td>\n",
       "    </tr>\n",
       "    <tr>\n",
       "      <th>42</th>\n",
       "      <td>i missed the crawford s at aulani by a few days</td>\n",
       "      <td>😭</td>\n",
       "      <td>❤</td>\n",
       "    </tr>\n",
       "    <tr>\n",
       "      <th>44</th>\n",
       "      <td>some of all some fucking hoes fw other girls m...</td>\n",
       "      <td>😂</td>\n",
       "      <td>😩</td>\n",
       "    </tr>\n",
       "    <tr>\n",
       "      <th>46</th>\n",
       "      <td>jordan took me to get my first one yesterday</td>\n",
       "      <td>😍</td>\n",
       "      <td>😩</td>\n",
       "    </tr>\n",
       "    <tr>\n",
       "      <th>65</th>\n",
       "      <td>some of all some fucking hoes fw other girls m...</td>\n",
       "      <td>😂</td>\n",
       "      <td>😩</td>\n",
       "    </tr>\n",
       "    <tr>\n",
       "      <th>69</th>\n",
       "      <td>please tell me why i spent hundreds on my bell...</td>\n",
       "      <td>😂</td>\n",
       "      <td>😩</td>\n",
       "    </tr>\n",
       "    <tr>\n",
       "      <th>72</th>\n",
       "      <td>mentoring is a beautiful thing contact mdcpsco...</td>\n",
       "      <td>❤</td>\n",
       "      <td>🤔</td>\n",
       "    </tr>\n",
       "    <tr>\n",
       "      <th>76</th>\n",
       "      <td>if you have a firestick watch gifted it s good...</td>\n",
       "      <td>😩</td>\n",
       "      <td>😍</td>\n",
       "    </tr>\n",
       "    <tr>\n",
       "      <th>82</th>\n",
       "      <td>sawe mrch masm ti</td>\n",
       "      <td>😂</td>\n",
       "      <td>😍</td>\n",
       "    </tr>\n",
       "    <tr>\n",
       "      <th>86</th>\n",
       "      <td>what</td>\n",
       "      <td>😂</td>\n",
       "      <td>🤔</td>\n",
       "    </tr>\n",
       "    <tr>\n",
       "      <th>92</th>\n",
       "      <td>i m really the only girl out to eat with the s...</td>\n",
       "      <td>😂</td>\n",
       "      <td>😍</td>\n",
       "    </tr>\n",
       "    <tr>\n",
       "      <th>96</th>\n",
       "      <td>i decided to surprise sofaaacquaviva and she s...</td>\n",
       "      <td>😂</td>\n",
       "      <td>🤔</td>\n",
       "    </tr>\n",
       "    <tr>\n",
       "      <th>100</th>\n",
       "      <td>that geechy got me fried</td>\n",
       "      <td>😭</td>\n",
       "      <td>😍</td>\n",
       "    </tr>\n",
       "    <tr>\n",
       "      <th>101</th>\n",
       "      <td>lawandordersvu philipwinchestr so glad he is back</td>\n",
       "      <td>❤</td>\n",
       "      <td>😍</td>\n",
       "    </tr>\n",
       "    <tr>\n",
       "      <th>104</th>\n",
       "      <td>i always do this to him</td>\n",
       "      <td>😍</td>\n",
       "      <td>❤</td>\n",
       "    </tr>\n",
       "    <tr>\n",
       "      <th>107</th>\n",
       "      <td>ur maddd fucking annoying im not gonna front s...</td>\n",
       "      <td>😂</td>\n",
       "      <td>🙄</td>\n",
       "    </tr>\n",
       "    <tr>\n",
       "      <th>117</th>\n",
       "      <td>i m asshole to my niggas but it s all love i j...</td>\n",
       "      <td>😂</td>\n",
       "      <td>🙄</td>\n",
       "    </tr>\n",
       "    <tr>\n",
       "      <th>119</th>\n",
       "      <td>like ooooohhhh why you wanna mess up my moood</td>\n",
       "      <td>🙄</td>\n",
       "      <td>😩</td>\n",
       "    </tr>\n",
       "    <tr>\n",
       "      <th>127</th>\n",
       "      <td>saige love saying call you back tt</td>\n",
       "      <td>🙄</td>\n",
       "      <td>😍</td>\n",
       "    </tr>\n",
       "    <tr>\n",
       "      <th>128</th>\n",
       "      <td>ion wan no smoke w these niggas all k</td>\n",
       "      <td>😂</td>\n",
       "      <td>😭</td>\n",
       "    </tr>\n",
       "    <tr>\n",
       "      <th>136</th>\n",
       "      <td>ayo how you overdraft your cash app</td>\n",
       "      <td>😂</td>\n",
       "      <td>🤔</td>\n",
       "    </tr>\n",
       "    <tr>\n",
       "      <th>143</th>\n",
       "      <td>khiel s is the one place where the employees a...</td>\n",
       "      <td>😩</td>\n",
       "      <td>🙄</td>\n",
       "    </tr>\n",
       "    <tr>\n",
       "      <th>148</th>\n",
       "      <td>pain is temporary spring break pictures are fo...</td>\n",
       "      <td>😂</td>\n",
       "      <td>🙄</td>\n",
       "    </tr>\n",
       "    <tr>\n",
       "      <th>158</th>\n",
       "      <td>i just died</td>\n",
       "      <td>😂</td>\n",
       "      <td>😭</td>\n",
       "    </tr>\n",
       "    <tr>\n",
       "      <th>159</th>\n",
       "      <td>eeeeee you still alive</td>\n",
       "      <td>😂</td>\n",
       "      <td>🙄</td>\n",
       "    </tr>\n",
       "    <tr>\n",
       "      <th>160</th>\n",
       "      <td>i only crashed times that s less than my last ...</td>\n",
       "      <td>😂</td>\n",
       "      <td>😭</td>\n",
       "    </tr>\n",
       "    <tr>\n",
       "      <th>162</th>\n",
       "      <td>white people live provoking people and then pl...</td>\n",
       "      <td>😂</td>\n",
       "      <td>🙄</td>\n",
       "    </tr>\n",
       "    <tr>\n",
       "      <th>...</th>\n",
       "      <td>...</td>\n",
       "      <td>...</td>\n",
       "      <td>...</td>\n",
       "    </tr>\n",
       "    <tr>\n",
       "      <th>15102</th>\n",
       "      <td>fr tho</td>\n",
       "      <td>😂</td>\n",
       "      <td>😭</td>\n",
       "    </tr>\n",
       "    <tr>\n",
       "      <th>15105</th>\n",
       "      <td>been to a lot of asian restaurant for this pas...</td>\n",
       "      <td>😭</td>\n",
       "      <td>🙄</td>\n",
       "    </tr>\n",
       "    <tr>\n",
       "      <th>15106</th>\n",
       "      <td>did he even try to aim for goal post</td>\n",
       "      <td>😂</td>\n",
       "      <td>🙄</td>\n",
       "    </tr>\n",
       "    <tr>\n",
       "      <th>15109</th>\n",
       "      <td>just a bit outside</td>\n",
       "      <td>😂</td>\n",
       "      <td>😭</td>\n",
       "    </tr>\n",
       "    <tr>\n",
       "      <th>15113</th>\n",
       "      <td>missed fgs will not however</td>\n",
       "      <td>😂</td>\n",
       "      <td>❤</td>\n",
       "    </tr>\n",
       "    <tr>\n",
       "      <th>15117</th>\n",
       "      <td>alabama and they kickers cfbnationalchampionship</td>\n",
       "      <td>😂</td>\n",
       "      <td>❤</td>\n",
       "    </tr>\n",
       "    <tr>\n",
       "      <th>15141</th>\n",
       "      <td>seeing all these james avery posts makes me wa...</td>\n",
       "      <td>😭</td>\n",
       "      <td>🙄</td>\n",
       "    </tr>\n",
       "    <tr>\n",
       "      <th>15148</th>\n",
       "      <td>oh lord navarro about to get his ass whooped l...</td>\n",
       "      <td>😂</td>\n",
       "      <td>😍</td>\n",
       "    </tr>\n",
       "    <tr>\n",
       "      <th>15150</th>\n",
       "      <td>it s crazy what i come up with lit man</td>\n",
       "      <td>😂</td>\n",
       "      <td>😩</td>\n",
       "    </tr>\n",
       "    <tr>\n",
       "      <th>15152</th>\n",
       "      <td>anyways i need a good place to do my tint</td>\n",
       "      <td>🤔</td>\n",
       "      <td>😂</td>\n",
       "    </tr>\n",
       "    <tr>\n",
       "      <th>15153</th>\n",
       "      <td>one just has to wonder what the naming convent...</td>\n",
       "      <td>😂</td>\n",
       "      <td>🤔</td>\n",
       "    </tr>\n",
       "    <tr>\n",
       "      <th>15154</th>\n",
       "      <td>of course so funny</td>\n",
       "      <td>😂</td>\n",
       "      <td>🙄</td>\n",
       "    </tr>\n",
       "    <tr>\n",
       "      <th>15164</th>\n",
       "      <td>lmfaooo factual</td>\n",
       "      <td>😂</td>\n",
       "      <td>😭</td>\n",
       "    </tr>\n",
       "    <tr>\n",
       "      <th>15172</th>\n",
       "      <td>doing my washing and cleaning at this time err...</td>\n",
       "      <td>🙄</td>\n",
       "      <td>😩</td>\n",
       "    </tr>\n",
       "    <tr>\n",
       "      <th>15176</th>\n",
       "      <td>omg were at bdubs and dad and phillip are lite...</td>\n",
       "      <td>😂</td>\n",
       "      <td>🙄</td>\n",
       "    </tr>\n",
       "    <tr>\n",
       "      <th>15179</th>\n",
       "      <td>wide left</td>\n",
       "      <td>😂</td>\n",
       "      <td>😩</td>\n",
       "    </tr>\n",
       "    <tr>\n",
       "      <th>15182</th>\n",
       "      <td>i had so much fun w kam today j missed my bitch</td>\n",
       "      <td>😭</td>\n",
       "      <td>❤</td>\n",
       "    </tr>\n",
       "    <tr>\n",
       "      <th>15187</th>\n",
       "      <td>alabama is solid in every position except kick...</td>\n",
       "      <td>😂</td>\n",
       "      <td>❤</td>\n",
       "    </tr>\n",
       "    <tr>\n",
       "      <th>15206</th>\n",
       "      <td>gosh i ve missed homework so much</td>\n",
       "      <td>🙄</td>\n",
       "      <td>😩</td>\n",
       "    </tr>\n",
       "    <tr>\n",
       "      <th>15215</th>\n",
       "      <td>every time i come to lexs we play trip amp jus...</td>\n",
       "      <td>😂</td>\n",
       "      <td>😭</td>\n",
       "    </tr>\n",
       "    <tr>\n",
       "      <th>15220</th>\n",
       "      <td>my husband s first tweet is about you thebachelor</td>\n",
       "      <td>😍</td>\n",
       "      <td>😭</td>\n",
       "    </tr>\n",
       "    <tr>\n",
       "      <th>15228</th>\n",
       "      <td>she ain t white tho she just tricked herself i...</td>\n",
       "      <td>🙄</td>\n",
       "      <td>🤔</td>\n",
       "    </tr>\n",
       "    <tr>\n",
       "      <th>15231</th>\n",
       "      <td>come back in my life for what then</td>\n",
       "      <td>🤔</td>\n",
       "      <td>😍</td>\n",
       "    </tr>\n",
       "    <tr>\n",
       "      <th>15234</th>\n",
       "      <td>on me</td>\n",
       "      <td>😂</td>\n",
       "      <td>😍</td>\n",
       "    </tr>\n",
       "    <tr>\n",
       "      <th>15240</th>\n",
       "      <td>bama kicker so trash might as well let jk scot...</td>\n",
       "      <td>😂</td>\n",
       "      <td>🙄</td>\n",
       "    </tr>\n",
       "    <tr>\n",
       "      <th>15241</th>\n",
       "      <td>you should you definitely should</td>\n",
       "      <td>😂</td>\n",
       "      <td>🤔</td>\n",
       "    </tr>\n",
       "    <tr>\n",
       "      <th>15242</th>\n",
       "      <td>that was a nice missed field goal</td>\n",
       "      <td>😂</td>\n",
       "      <td>❤</td>\n",
       "    </tr>\n",
       "    <tr>\n",
       "      <th>15245</th>\n",
       "      <td>due to insane ticket prices i wonder how many ...</td>\n",
       "      <td>🤔</td>\n",
       "      <td>🙄</td>\n",
       "    </tr>\n",
       "    <tr>\n",
       "      <th>15268</th>\n",
       "      <td>that looked like blair walsh out there</td>\n",
       "      <td>😂</td>\n",
       "      <td>😍</td>\n",
       "    </tr>\n",
       "    <tr>\n",
       "      <th>15272</th>\n",
       "      <td>charliekirk yes it was</td>\n",
       "      <td>❤</td>\n",
       "      <td>😍</td>\n",
       "    </tr>\n",
       "  </tbody>\n",
       "</table>\n",
       "<p>2568 rows × 3 columns</p>\n",
       "</div>"
      ],
      "text/plain": [
       "                                                    text emo prediction\n",
       "1                               fans couth my god my god   😍          ❤\n",
       "4                                        i love him lord   ❤          😍\n",
       "24     if sex is of the relationship that explains wh...   😭          🙄\n",
       "33     second eye exam until i find out if i ll be ok...   😍          🙄\n",
       "42       i missed the crawford s at aulani by a few days   😭          ❤\n",
       "44     some of all some fucking hoes fw other girls m...   😂          😩\n",
       "46          jordan took me to get my first one yesterday   😍          😩\n",
       "65     some of all some fucking hoes fw other girls m...   😂          😩\n",
       "69     please tell me why i spent hundreds on my bell...   😂          😩\n",
       "72     mentoring is a beautiful thing contact mdcpsco...   ❤          🤔\n",
       "76     if you have a firestick watch gifted it s good...   😩          😍\n",
       "82                                     sawe mrch masm ti   😂          😍\n",
       "86                                                  what   😂          🤔\n",
       "92     i m really the only girl out to eat with the s...   😂          😍\n",
       "96     i decided to surprise sofaaacquaviva and she s...   😂          🤔\n",
       "100                             that geechy got me fried   😭          😍\n",
       "101    lawandordersvu philipwinchestr so glad he is back   ❤          😍\n",
       "104                              i always do this to him   😍          ❤\n",
       "107    ur maddd fucking annoying im not gonna front s...   😂          🙄\n",
       "117    i m asshole to my niggas but it s all love i j...   😂          🙄\n",
       "119        like ooooohhhh why you wanna mess up my moood   🙄          😩\n",
       "127                   saige love saying call you back tt   🙄          😍\n",
       "128                ion wan no smoke w these niggas all k   😂          😭\n",
       "136                  ayo how you overdraft your cash app   😂          🤔\n",
       "143    khiel s is the one place where the employees a...   😩          🙄\n",
       "148    pain is temporary spring break pictures are fo...   😂          🙄\n",
       "158                                          i just died   😂          😭\n",
       "159                               eeeeee you still alive   😂          🙄\n",
       "160    i only crashed times that s less than my last ...   😂          😭\n",
       "162    white people live provoking people and then pl...   😂          🙄\n",
       "...                                                  ...  ..        ...\n",
       "15102                                             fr tho   😂          😭\n",
       "15105  been to a lot of asian restaurant for this pas...   😭          🙄\n",
       "15106               did he even try to aim for goal post   😂          🙄\n",
       "15109                                 just a bit outside   😂          😭\n",
       "15113                        missed fgs will not however   😂          ❤\n",
       "15117   alabama and they kickers cfbnationalchampionship   😂          ❤\n",
       "15141  seeing all these james avery posts makes me wa...   😭          🙄\n",
       "15148  oh lord navarro about to get his ass whooped l...   😂          😍\n",
       "15150             it s crazy what i come up with lit man   😂          😩\n",
       "15152          anyways i need a good place to do my tint   🤔          😂\n",
       "15153  one just has to wonder what the naming convent...   😂          🤔\n",
       "15154                                 of course so funny   😂          🙄\n",
       "15164                                    lmfaooo factual   😂          😭\n",
       "15172  doing my washing and cleaning at this time err...   🙄          😩\n",
       "15176  omg were at bdubs and dad and phillip are lite...   😂          🙄\n",
       "15179                                          wide left   😂          😩\n",
       "15182    i had so much fun w kam today j missed my bitch   😭          ❤\n",
       "15187  alabama is solid in every position except kick...   😂          ❤\n",
       "15206                  gosh i ve missed homework so much   🙄          😩\n",
       "15215  every time i come to lexs we play trip amp jus...   😂          😭\n",
       "15220  my husband s first tweet is about you thebachelor   😍          😭\n",
       "15228  she ain t white tho she just tricked herself i...   🙄          🤔\n",
       "15231                 come back in my life for what then   🤔          😍\n",
       "15234                                              on me   😂          😍\n",
       "15240  bama kicker so trash might as well let jk scot...   😂          🙄\n",
       "15241                   you should you definitely should   😂          🤔\n",
       "15242                  that was a nice missed field goal   😂          ❤\n",
       "15245  due to insane ticket prices i wonder how many ...   🤔          🙄\n",
       "15268             that looked like blair walsh out there   😂          😍\n",
       "15272                             charliekirk yes it was   ❤          😍\n",
       "\n",
       "[2568 rows x 3 columns]"
      ]
     },
     "execution_count": 39,
     "metadata": {},
     "output_type": "execute_result"
    }
   ],
   "source": [
    "test[Y.argmax(1) != prediction][['text','emo','prediction']]"
   ]
  },
  {
   "cell_type": "markdown",
   "metadata": {},
   "source": [
    "After grid search for best parameters for this dataset: non-lexical model slightly but consistently outperforms the lexical."
   ]
  },
  {
   "cell_type": "code",
   "execution_count": null,
   "metadata": {},
   "outputs": [],
   "source": []
  }
 ],
 "metadata": {
  "kernelspec": {
   "display_name": "Python 3",
   "language": "python",
   "name": "python3"
  },
  "language_info": {
   "codemirror_mode": {
    "name": "ipython",
    "version": 3
   },
   "file_extension": ".py",
   "mimetype": "text/x-python",
   "name": "python",
   "nbconvert_exporter": "python",
   "pygments_lexer": "ipython3",
   "version": "3.5.2"
  }
 },
 "nbformat": 4,
 "nbformat_minor": 2
}
