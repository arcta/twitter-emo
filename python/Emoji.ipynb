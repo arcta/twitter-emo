{
 "cells": [
  {
   "cell_type": "markdown",
   "metadata": {},
   "source": [
    "# Emoji Sentiment\n",
    "To figure out emoji sentiment we run a query with a set of strong positive keywords and another query with a set of strong negative keywords, then calculate the scores ( $\\frac{positive + negative}{total} = 1$ ) for emoji appearing in the results. To avoid mixed signal we only consider short messages ( less then 10 words ). Scores will be stored in RDB ( here MySQL ) and updated each time job runs.\n",
    "\n",
    "Let's get [full emoji list](https://unicode.org/emoji/charts/full-emoji-list.html), [import to local database with sentiment scores initialzed to 0](../python-api/README.ipynb)."
   ]
  },
  {
   "cell_type": "code",
   "execution_count": 1,
   "metadata": {
    "collapsed": true
   },
   "outputs": [],
   "source": [
    "import os\n",
    "import re\n",
    "import sys\n",
    "import time\n",
    "import json\n",
    "import client\n",
    "\n",
    "score = {}\n",
    "with open('emo-list.txt','r') as source:\n",
    "    score = { chr(int(c)):{ 'total':0, 'positive':0, 'negative':0 }\n",
    "              for c in source.read().strip().split() }\n",
    "\n",
    "labels = ('positive','negative')\n",
    "\n",
    "options = [\n",
    "    ('best','worst'),\n",
    "    # TODO\n",
    "    ('success','failure')]\n",
    "\n",
    "insert = \"\"\"\n",
    "INSERT INTO emoji (code, <label>, total)\n",
    "    VALUES('{}', {}, {})\n",
    "    ON DUPLICATE KEY UPDATE\n",
    "    <label> = <label> + VALUES(<label>),\n",
    "    total = total + VALUES(total);\n",
    "    \"\"\"\n",
    "\n",
    "update = \"\"\"\n",
    "UPDATE emoji\n",
    "    SET sentiment = (positive - negative)/total\n",
    "    WHERE total > 0;\n",
    "    \"\"\"\n",
    "\n",
    "def extract(label):\n",
    "    def func(data):\n",
    "        try:\n",
    "            obj = json.loads(data)\n",
    "            if 'text' in obj and len(obj['text'].split()) < 10:\n",
    "                emo = { c:1 for c in obj['text'].lower() if c in score }\n",
    "                #emo = [ c for c in obj['text'].lower() if c in score ]\n",
    "                for e in emo:\n",
    "                    score[e]['total'] += 1\n",
    "                    score[e][label] += 1\n",
    "                    print('{}\\tPositive: {}\\tNegative: {}\\tTotal: {}'\\\n",
    "                        .format(e, score[e]['positive'], score[e]['negative'], score[e]['total']))\n",
    "        except:\n",
    "            print('Error: {}'.format(sys.exc_info()))\n",
    "\n",
    "    return func\n",
    "\n",
    "twitter = client.TwitterClient()"
   ]
  },
  {
   "cell_type": "markdown",
   "metadata": {},
   "source": [
    "### Positive"
   ]
  },
  {
   "cell_type": "code",
   "execution_count": 2,
   "metadata": {},
   "outputs": [
    {
     "name": "stdout",
     "output_type": "stream",
     "text": [
      "😍\tPositive: 1\tNegative: 0\tTotal: 1\n",
      "🗽\tPositive: 1\tNegative: 0\tTotal: 1\n",
      "💍\tPositive: 1\tNegative: 0\tTotal: 1\n",
      "😂\tPositive: 1\tNegative: 0\tTotal: 1\n",
      "🤷\tPositive: 1\tNegative: 0\tTotal: 1\n",
      "♀\tPositive: 1\tNegative: 0\tTotal: 1\n",
      "💕\tPositive: 1\tNegative: 0\tTotal: 1\n",
      "‼\tPositive: 1\tNegative: 0\tTotal: 1\n",
      "🙏\tPositive: 1\tNegative: 0\tTotal: 1\n",
      "🙌\tPositive: 1\tNegative: 0\tTotal: 1\n",
      "😩\tPositive: 1\tNegative: 0\tTotal: 1\n",
      "😂\tPositive: 2\tNegative: 0\tTotal: 2\n",
      "🐐\tPositive: 1\tNegative: 0\tTotal: 1\n",
      "📽\tPositive: 1\tNegative: 0\tTotal: 1\n",
      "😂\tPositive: 3\tNegative: 0\tTotal: 3\n",
      "🏴\tPositive: 1\tNegative: 0\tTotal: 1\n",
      "💕\tPositive: 2\tNegative: 0\tTotal: 2\n",
      "😍\tPositive: 2\tNegative: 0\tTotal: 2\n",
      "💯\tPositive: 1\tNegative: 0\tTotal: 1\n",
      "😭\tPositive: 1\tNegative: 0\tTotal: 1\n",
      "😂\tPositive: 4\tNegative: 0\tTotal: 4\n",
      "😂\tPositive: 5\tNegative: 0\tTotal: 5\n",
      "😍\tPositive: 3\tNegative: 0\tTotal: 3\n",
      "😩\tPositive: 2\tNegative: 0\tTotal: 2\n",
      "😛\tPositive: 1\tNegative: 0\tTotal: 1\n",
      "💕\tPositive: 3\tNegative: 0\tTotal: 3\n",
      "❤\tPositive: 1\tNegative: 0\tTotal: 1\n",
      "😭\tPositive: 2\tNegative: 0\tTotal: 2\n",
      "😍\tPositive: 4\tNegative: 0\tTotal: 4\n",
      "🎯\tPositive: 1\tNegative: 0\tTotal: 1\n",
      "💨\tPositive: 1\tNegative: 0\tTotal: 1\n",
      "😍\tPositive: 5\tNegative: 0\tTotal: 5\n",
      "😂\tPositive: 6\tNegative: 0\tTotal: 6\n",
      "🤘\tPositive: 1\tNegative: 0\tTotal: 1\n",
      "💯\tPositive: 2\tNegative: 0\tTotal: 2\n",
      "💀\tPositive: 1\tNegative: 0\tTotal: 1\n",
      "🤤\tPositive: 1\tNegative: 0\tTotal: 1\n",
      "🙌\tPositive: 2\tNegative: 0\tTotal: 2\n",
      "😘\tPositive: 1\tNegative: 0\tTotal: 1\n",
      "🙃\tPositive: 1\tNegative: 0\tTotal: 1\n",
      "😌\tPositive: 1\tNegative: 0\tTotal: 1\n",
      "😋\tPositive: 1\tNegative: 0\tTotal: 1\n",
      "😩\tPositive: 3\tNegative: 0\tTotal: 3\n",
      "🙌\tPositive: 3\tNegative: 0\tTotal: 3\n",
      "😂\tPositive: 7\tNegative: 0\tTotal: 7\n",
      "❤\tPositive: 2\tNegative: 0\tTotal: 2\n",
      "❤\tPositive: 3\tNegative: 0\tTotal: 3\n",
      "🗣\tPositive: 1\tNegative: 0\tTotal: 1\n",
      "💖\tPositive: 1\tNegative: 0\tTotal: 1\n",
      "📷\tPositive: 1\tNegative: 0\tTotal: 1\n"
     ]
    }
   ],
   "source": [
    "# get 1000 tweets and extract ones with emoji\n",
    "twitter.stream('best', broadcast = extract('positive'), count = 1000)"
   ]
  },
  {
   "cell_type": "markdown",
   "metadata": {},
   "source": [
    "### Negative"
   ]
  },
  {
   "cell_type": "code",
   "execution_count": 3,
   "metadata": {},
   "outputs": [
    {
     "name": "stdout",
     "output_type": "stream",
     "text": [
      "🙃\tPositive: 1\tNegative: 1\tTotal: 2\n",
      "♂\tPositive: 0\tNegative: 1\tTotal: 1\n",
      "🤦\tPositive: 0\tNegative: 1\tTotal: 1\n",
      "😩\tPositive: 3\tNegative: 1\tTotal: 4\n",
      "🤔\tPositive: 0\tNegative: 1\tTotal: 1\n",
      "😩\tPositive: 3\tNegative: 2\tTotal: 5\n",
      "😂\tPositive: 7\tNegative: 1\tTotal: 8\n",
      "💯\tPositive: 2\tNegative: 1\tTotal: 3\n",
      "😩\tPositive: 3\tNegative: 3\tTotal: 6\n",
      "😩\tPositive: 3\tNegative: 4\tTotal: 7\n"
     ]
    }
   ],
   "source": [
    "twitter.stream('worst', broadcast = extract('negative'), count = 1000)"
   ]
  },
  {
   "cell_type": "code",
   "execution_count": 4,
   "metadata": {},
   "outputs": [
    {
     "name": "stdout",
     "output_type": "stream",
     "text": [
      "😂\tTotal: 8\tPositive: 0.88\tNegative: 0.12\tSentiment: 0.75\n",
      "😩\tTotal: 7\tPositive: 0.43\tNegative: 0.57\tSentiment: -0.14\n",
      "😍\tTotal: 5\tPositive: 1.00\tNegative: 0.00\tSentiment: 1.00\n",
      "🙌\tTotal: 3\tPositive: 1.00\tNegative: 0.00\tSentiment: 1.00\n",
      "💕\tTotal: 3\tPositive: 1.00\tNegative: 0.00\tSentiment: 1.00\n",
      "❤\tTotal: 3\tPositive: 1.00\tNegative: 0.00\tSentiment: 1.00\n",
      "💯\tTotal: 3\tPositive: 0.67\tNegative: 0.33\tSentiment: 0.33\n",
      "😭\tTotal: 2\tPositive: 1.00\tNegative: 0.00\tSentiment: 1.00\n",
      "🙃\tTotal: 2\tPositive: 0.50\tNegative: 0.50\tSentiment: 0.00\n",
      "🤘\tTotal: 1\tPositive: 1.00\tNegative: 0.00\tSentiment: 1.00\n",
      "💖\tTotal: 1\tPositive: 1.00\tNegative: 0.00\tSentiment: 1.00\n",
      "♂\tTotal: 1\tPositive: 0.00\tNegative: 1.00\tSentiment: -1.00\n",
      "♀\tTotal: 1\tPositive: 1.00\tNegative: 0.00\tSentiment: 1.00\n",
      "🙏\tTotal: 1\tPositive: 1.00\tNegative: 0.00\tSentiment: 1.00\n",
      "💀\tTotal: 1\tPositive: 1.00\tNegative: 0.00\tSentiment: 1.00\n",
      "‼\tTotal: 1\tPositive: 1.00\tNegative: 0.00\tSentiment: 1.00\n",
      "📷\tTotal: 1\tPositive: 1.00\tNegative: 0.00\tSentiment: 1.00\n",
      "🏴\tTotal: 1\tPositive: 1.00\tNegative: 0.00\tSentiment: 1.00\n",
      "🤤\tTotal: 1\tPositive: 1.00\tNegative: 0.00\tSentiment: 1.00\n",
      "😛\tTotal: 1\tPositive: 1.00\tNegative: 0.00\tSentiment: 1.00\n",
      "😋\tTotal: 1\tPositive: 1.00\tNegative: 0.00\tSentiment: 1.00\n",
      "📽\tTotal: 1\tPositive: 1.00\tNegative: 0.00\tSentiment: 1.00\n",
      "💨\tTotal: 1\tPositive: 1.00\tNegative: 0.00\tSentiment: 1.00\n",
      "🤷\tTotal: 1\tPositive: 1.00\tNegative: 0.00\tSentiment: 1.00\n",
      "💍\tTotal: 1\tPositive: 1.00\tNegative: 0.00\tSentiment: 1.00\n",
      "🐐\tTotal: 1\tPositive: 1.00\tNegative: 0.00\tSentiment: 1.00\n",
      "😘\tTotal: 1\tPositive: 1.00\tNegative: 0.00\tSentiment: 1.00\n",
      "😌\tTotal: 1\tPositive: 1.00\tNegative: 0.00\tSentiment: 1.00\n",
      "🗽\tTotal: 1\tPositive: 1.00\tNegative: 0.00\tSentiment: 1.00\n",
      "🎯\tTotal: 1\tPositive: 1.00\tNegative: 0.00\tSentiment: 1.00\n",
      "🤔\tTotal: 1\tPositive: 0.00\tNegative: 1.00\tSentiment: -1.00\n",
      "🗣\tTotal: 1\tPositive: 1.00\tNegative: 0.00\tSentiment: 1.00\n",
      "🤦\tTotal: 1\tPositive: 0.00\tNegative: 1.00\tSentiment: -1.00\n"
     ]
    }
   ],
   "source": [
    "for e in sorted(score, key = lambda e: score[e]['total'], reverse = True):\n",
    "    if score[e]['total'] > 0:\n",
    "        positive = score[e]['positive']/score[e]['total']\n",
    "        negative = score[e]['negative']/score[e]['total']\n",
    "        print('{}\\tTotal: {}\\tPositive: {:.2f}\\tNegative: {:.2f}\\tSentiment: {:.2f}'\\\n",
    "            .format(e, score[e]['total'], positive, negative, positive - negative))"
   ]
  },
  {
   "cell_type": "markdown",
   "metadata": {
    "collapsed": true
   },
   "source": [
    "That is the data we are going to store and update with each run. Run includes strong polar keywords, preferably short and frequent, where negation using *not* is unlikely: wonderful terrible; meilleur pire; erfolg fehler; tesoro basura; ispiratore depressiva; люблю ненавижу; ..."
   ]
  },
  {
   "cell_type": "code",
   "execution_count": 5,
   "metadata": {},
   "outputs": [
    {
     "name": "stdout",
     "output_type": "stream",
     "text": [
      "#!/var/python\r\n",
      "\r\n",
      "import os\r\n",
      "import re\r\n",
      "import sys\r\n",
      "import time\r\n",
      "import json\r\n",
      "import client\r\n",
      "from datetime import datetime\r\n",
      "\r\n",
      "score = {}\r\n",
      "with open('emo-list.txt','r') as source:\r\n",
      "    score = { chr(int(c)):{ 'total':0, 'positive':0, 'negative':0 }\r\n",
      "              for c in source.read().strip().split() }\r\n",
      "\r\n",
      "labels = ('positive','negative')\r\n",
      "stats = { 'total':0 }\r\n",
      "\r\n",
      "options = [\r\n",
      "    ('best','worst'),\r\n",
      "    ('awesome','awful'),\r\n",
      "    ('wonderful','terrible'),\r\n",
      "    ('success','failure'),\r\n",
      "    ('perfect','fault'),\r\n",
      "    ('tesoro','basura'),\r\n",
      "    ('люблю','ненавижу')]\r\n",
      "\r\n",
      "insert = \"\"\"\r\n",
      "INSERT INTO emo_sent (code, span, <label>, total)\r\n",
      "    VALUES('{}', '{}', {}, {})\r\n",
      "    ON DUPLICATE KEY UPDATE\r\n",
      "    <label> = <label> + VALUES(<label>),\r\n",
      "    total = total + VALUES(total);\r\n",
      "    \"\"\"\r\n",
      "\r\n",
      "update = \"\"\"\r\n",
      "UPDATE emo_sent a INNER JOIN (\r\n",
      "    SELECT span, IF(negative > 0 AND positive > 0, positive/negative, 1) as ratio\r\n",
      "    FROM emo_job_stats) as b USING(span)\r\n",
      "SET a.sentiment = (a.positive - a.negative * b.ratio)/(a.positive + a.negative * b.ratio)\r\n",
      "    WHERE a.span = '{}' AND a.total > 0;\r\n",
      "    \"\"\"\r\n",
      "\r\n",
      "job_update = \"\"\"\r\n",
      "INSERT INTO emo_job_stats(span, <label>)\r\n",
      "    VALUES('{}', {})\r\n",
      "    ON DUPLICATE KEY UPDATE\r\n",
      "    <label> = <label> + VALUES(<label>);\r\n",
      "    \"\"\"\r\n",
      "\r\n",
      "def extract(label):\r\n",
      "    def extract_set(data):\r\n",
      "        try:\r\n",
      "            obj = json.loads(data)\r\n",
      "            if 'text' in obj and len(obj['text'].split()) < 10:\r\n",
      "                #print(obj['text'])\r\n",
      "                emo = { c:1 for c in obj['text'].lower() if c in score }\r\n",
      "                for e in emo:\r\n",
      "                    score[e]['total'] += 1\r\n",
      "                    score[e][label] += 1\r\n",
      "                stats['total'] += 1\r\n",
      "        except:\r\n",
      "            print('Error: {}'.format(sys.exc_info()))\r\n",
      "    return extract_set\r\n",
      "\r\n",
      "\r\n",
      "if  __name__ =='__main__':\r\n",
      "    '''\r\n",
      "    called by emo-job.sh:\r\n",
      "    python emo-job.py <MINUTES RUN> <LABEL INDEX> <RANDOM OPTION INDEX>\r\n",
      "    '''\r\n",
      "    minutes = 5\r\n",
      "    if len(sys.argv) > 1 and int(sys.argv[1]) > 0:\r\n",
      "        minutes = int(sys.argv[1])\r\n",
      "\r\n",
      "    label = 0\r\n",
      "    if len(sys.argv) > 2 and int(sys.argv[2]) < len(labels):\r\n",
      "        label = int(sys.argv[2])\r\n",
      "\r\n",
      "    idx = 0\r\n",
      "    if len(sys.argv) > 3 and int(sys.argv[3]) < len(options):\r\n",
      "        idx = int(sys.argv[3])\r\n",
      "\r\n",
      "    query = options[idx][label]\r\n",
      "    label = labels[label]\r\n",
      "    span = datetime.now().strftime('%Y-%m')\r\n",
      "\r\n",
      "    twitter = client.TwitterClient()\r\n",
      "    twitter.stream(query, broadcast = extract(label), timer = 60 * minutes)\r\n",
      "    time.sleep(60 * minutes)\r\n",
      "    with open('emo-job-update.sql','w') as output:\r\n",
      "        for c,s in score.items():\r\n",
      "            if s['total'] > 0:\r\n",
      "                output.write(re.sub(r'\\n\\s+', ' ', re.sub('<label>', label,\r\n",
      "                    insert.format(str(ord(c)), span, s[label], s['total']))))\r\n",
      "        output.write(re.sub(r'\\n\\s+', ' ', update.format(span)))\r\n",
      "        output.write(re.sub(r'\\n\\s+', ' ', re.sub('<label>', label,\r\n",
      "                        job_update.format(span, stats['total']))))\r\n"
     ]
    }
   ],
   "source": [
    "!cat emo-job.py"
   ]
  },
  {
   "cell_type": "code",
   "execution_count": 6,
   "metadata": {},
   "outputs": [
    {
     "name": "stdout",
     "output_type": "stream",
     "text": [
      "#!/bin/bash\r\n",
      "\r\n",
      "########################################################################\r\n",
      "# job calculating current and updating existing emoji sentiment score\r\n",
      "# run: emo-job.sh <MINUTES RUN>\r\n",
      "########################################################################\r\n",
      "source ~/.local.cnf\r\n",
      "cd ~/projects/twitter/python\r\n",
      "\r\n",
      "if [ \"$1\" > 0 ]; then\r\n",
      "    timer=$1\r\n",
      "else\r\n",
      "    timer=5\r\n",
      "fi\r\n",
      "\r\n",
      "((opt = (RANDOM % 10)))\r\n",
      "\r\n",
      "mysql -u root -p$MYSQL_ROOT_PASS -B --disable-column-names -e \\\r\n",
      "\"SELECT code FROM $DATABASE.emoji WHERE composite = 1\" > emo-list.txt\r\n",
      "\r\n",
      "echo \"----- Positive index: $opt ----- Run: $timer minutes ------------\"\r\n",
      "python emo-job.py $timer 0 $opt\r\n",
      "mysql -u root -p$MYSQL_ROOT_PASS $DATABASE < emo-job-update.sql\r\n",
      "\r\n",
      "echo \"----- Negative index: $opt ----- Run: $timer minutes ------------\"\r\n",
      "python emo-job.py $timer 1 $opt\r\n",
      "mysql -u root -p$MYSQL_ROOT_PASS $DATABASE < emo-job-update.sql\r\n",
      "\r\n",
      "mysql -u root -p$MYSQL_ROOT_PASS -B --disable-column-names -e \"\r\n",
      "SELECT a.chars, b.sentiment FROM emoji a JOIN emo_sent b USING(code)\r\n",
      "WHERE b.span = DATE_FORMAT(CURDATE(), '%Y-%m') AND b.total > 0 ORDER BY b.sentiment\r\n",
      "\" > sentiment.txt\r\n"
     ]
    }
   ],
   "source": [
    "!cat emo-job.sh"
   ]
  },
  {
   "cell_type": "markdown",
   "metadata": {},
   "source": [
    "Data is available at [Project data API](../python-api/README.ipynb). In our emo-sent job we used runtime as proxy for the number of messages, however, as it appears, the positive content is strongly dominating with the ratio about 10 to 1. For that reason we also track this ratio and using current value for sentiment calculation."
   ]
  },
  {
   "cell_type": "code",
   "execution_count": null,
   "metadata": {
    "collapsed": true
   },
   "outputs": [],
   "source": []
  }
 ],
 "metadata": {
  "kernelspec": {
   "display_name": "Python 3",
   "language": "python",
   "name": "python3"
  },
  "language_info": {
   "codemirror_mode": {
    "name": "ipython",
    "version": 3
   },
   "file_extension": ".py",
   "mimetype": "text/x-python",
   "name": "python",
   "nbconvert_exporter": "python",
   "pygments_lexer": "ipython3",
   "version": "3.5.2"
  }
 },
 "nbformat": 4,
 "nbformat_minor": 2
}
