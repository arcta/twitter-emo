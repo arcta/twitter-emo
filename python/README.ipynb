{
 "cells": [
  {
   "cell_type": "markdown",
   "metadata": {},
   "source": [
    "# Quick view with Python\n",
    "(This example using Twitter API and [tweepy](http://docs.tweepy.org/en/v3.5.0/index.html))"
   ]
  },
  {
   "cell_type": "code",
   "execution_count": 1,
   "metadata": {
    "collapsed": true
   },
   "outputs": [],
   "source": [
    "#!pip install -U tweepy"
   ]
  },
  {
   "cell_type": "markdown",
   "metadata": {},
   "source": [
    "### Sample Data"
   ]
  },
  {
   "cell_type": "code",
   "execution_count": 2,
   "metadata": {
    "collapsed": true
   },
   "outputs": [],
   "source": [
    "import os\n",
    "from tweepy import OAuthHandler, API, TweepError\n",
    "from tweepy.parsers import JSONParser\n",
    "\n",
    "\n",
    "class TwitterClient:\n",
    "    def __init__(self):\n",
    "        '''\n",
    "        authenticate API\n",
    "        '''\n",
    "        consumer_key = os.environ['TWITTER_CONSUMER_KEY']\n",
    "        consumer_secret = os.environ['TWITTER_CONSUMER_SECRET']\n",
    "        access_token = os.environ['TWITTER_ACCESS_TOKEN']\n",
    "        access_token_secret = os.environ['TWITTER_ACCESS_TOKEN_SECRET']\n",
    "        try:\n",
    "            self.auth = OAuthHandler(consumer_key, consumer_secret)\n",
    "            self.auth.set_access_token(access_token, access_token_secret)\n",
    "        except:\n",
    "            print('Error: Authentication Failure')\n",
    "\n",
    "\n",
    "    def sample(self, query, count = 10, geo = False):\n",
    "        '''\n",
    "        get sample data\n",
    "        '''\n",
    "        api = API(self.auth, parser = JSONParser())\n",
    "        try:\n",
    "            tweets = api.search(q = query, count = count)\n",
    "            return tweets\n",
    "        except TweepError as e:\n",
    "            print('Error: {}'.format(e))\n",
    "            return []\n"
   ]
  },
  {
   "cell_type": "code",
   "execution_count": 3,
   "metadata": {
    "collapsed": true
   },
   "outputs": [],
   "source": [
    "twitter = TwitterClient()\n",
    "# get 5 tweets\n",
    "sample = twitter.sample('machine learning,AI', count = 5)"
   ]
  },
  {
   "cell_type": "code",
   "execution_count": 4,
   "metadata": {},
   "outputs": [
    {
     "name": "stdout",
     "output_type": "stream",
     "text": [
      "search_metadata\n",
      "statuses\n"
     ]
    }
   ],
   "source": [
    "for key in sample:\n",
    "    print(key)"
   ]
  },
  {
   "cell_type": "code",
   "execution_count": 5,
   "metadata": {
    "collapsed": true
   },
   "outputs": [],
   "source": [
    "import re\n",
    "\n",
    "def quick_look(obj):\n",
    "    nested = []\n",
    "    for key in sorted(list(obj.keys())):\n",
    "        dtype = re.sub('\\W+', '', str(type(obj[key])).split().pop())\n",
    "        print('{:<35} {}'.format(key, '? (missing)' if dtype == 'NoneType' else dtype))\n",
    "        if dtype == 'dict':\n",
    "            nested.append(key)\n",
    "    if len(nested) > 0:\n",
    "        print('\\nNested objects:')\n",
    "        for key in nested:\n",
    "            print('\\t{}'.format(key))"
   ]
  },
  {
   "cell_type": "code",
   "execution_count": 6,
   "metadata": {},
   "outputs": [
    {
     "name": "stdout",
     "output_type": "stream",
     "text": [
      "completed_in                        float\n",
      "count                               int\n",
      "max_id                              int\n",
      "max_id_str                          str\n",
      "next_results                        str\n",
      "query                               str\n",
      "refresh_url                         str\n",
      "since_id                            int\n",
      "since_id_str                        str\n"
     ]
    }
   ],
   "source": [
    "quick_look(sample['search_metadata'])"
   ]
  },
  {
   "cell_type": "code",
   "execution_count": 7,
   "metadata": {},
   "outputs": [
    {
     "name": "stdout",
     "output_type": "stream",
     "text": [
      "contributors                        ? (missing)\n",
      "coordinates                         ? (missing)\n",
      "created_at                          str\n",
      "entities                            dict\n",
      "favorite_count                      int\n",
      "favorited                           bool\n",
      "geo                                 ? (missing)\n",
      "id                                  int\n",
      "id_str                              str\n",
      "in_reply_to_screen_name             ? (missing)\n",
      "in_reply_to_status_id               ? (missing)\n",
      "in_reply_to_status_id_str           ? (missing)\n",
      "in_reply_to_user_id                 ? (missing)\n",
      "in_reply_to_user_id_str             ? (missing)\n",
      "is_quote_status                     bool\n",
      "lang                                str\n",
      "metadata                            dict\n",
      "place                               ? (missing)\n",
      "retweet_count                       int\n",
      "retweeted                           bool\n",
      "retweeted_status                    dict\n",
      "source                              str\n",
      "text                                str\n",
      "truncated                           bool\n",
      "user                                dict\n",
      "\n",
      "Nested objects:\n",
      "\tentities\n",
      "\tmetadata\n",
      "\tretweeted_status\n",
      "\tuser\n"
     ]
    }
   ],
   "source": [
    "quick_look(sample['statuses'][1])"
   ]
  },
  {
   "cell_type": "code",
   "execution_count": 8,
   "metadata": {},
   "outputs": [
    {
     "name": "stdout",
     "output_type": "stream",
     "text": [
      "contributors_enabled                bool\n",
      "created_at                          str\n",
      "default_profile                     bool\n",
      "default_profile_image               bool\n",
      "description                         str\n",
      "entities                            dict\n",
      "favourites_count                    int\n",
      "follow_request_sent                 bool\n",
      "followers_count                     int\n",
      "following                           bool\n",
      "friends_count                       int\n",
      "geo_enabled                         bool\n",
      "has_extended_profile                bool\n",
      "id                                  int\n",
      "id_str                              str\n",
      "is_translation_enabled              bool\n",
      "is_translator                       bool\n",
      "lang                                str\n",
      "listed_count                        int\n",
      "location                            str\n",
      "name                                str\n",
      "notifications                       bool\n",
      "profile_background_color            str\n",
      "profile_background_image_url        str\n",
      "profile_background_image_url_https  str\n",
      "profile_background_tile             bool\n",
      "profile_image_url                   str\n",
      "profile_image_url_https             str\n",
      "profile_link_color                  str\n",
      "profile_sidebar_border_color        str\n",
      "profile_sidebar_fill_color          str\n",
      "profile_text_color                  str\n",
      "profile_use_background_image        bool\n",
      "protected                           bool\n",
      "screen_name                         str\n",
      "statuses_count                      int\n",
      "time_zone                           ? (missing)\n",
      "translator_type                     str\n",
      "url                                 str\n",
      "utc_offset                          ? (missing)\n",
      "verified                            bool\n",
      "\n",
      "Nested objects:\n",
      "\tentities\n"
     ]
    }
   ],
   "source": [
    "quick_look(sample['statuses'][1]['user'])"
   ]
  },
  {
   "cell_type": "code",
   "execution_count": 9,
   "metadata": {},
   "outputs": [
    {
     "name": "stdout",
     "output_type": "stream",
     "text": [
      "contributors                        ? (missing)\n",
      "coordinates                         ? (missing)\n",
      "created_at                          str\n",
      "entities                            dict\n",
      "favorite_count                      int\n",
      "favorited                           bool\n",
      "geo                                 ? (missing)\n",
      "id                                  int\n",
      "id_str                              str\n",
      "in_reply_to_screen_name             ? (missing)\n",
      "in_reply_to_status_id               ? (missing)\n",
      "in_reply_to_status_id_str           ? (missing)\n",
      "in_reply_to_user_id                 ? (missing)\n",
      "in_reply_to_user_id_str             ? (missing)\n",
      "is_quote_status                     bool\n",
      "lang                                str\n",
      "metadata                            dict\n",
      "place                               ? (missing)\n",
      "possibly_sensitive                  bool\n",
      "retweet_count                       int\n",
      "retweeted                           bool\n",
      "source                              str\n",
      "text                                str\n",
      "truncated                           bool\n",
      "user                                dict\n",
      "\n",
      "Nested objects:\n",
      "\tentities\n",
      "\tmetadata\n",
      "\tuser\n"
     ]
    }
   ],
   "source": [
    "quick_look(sample['statuses'][1]['retweeted_status'])"
   ]
  },
  {
   "cell_type": "code",
   "execution_count": 10,
   "metadata": {
    "collapsed": true
   },
   "outputs": [],
   "source": [
    "import pandas\n",
    "\n",
    "data = pandas.DataFrame(sample['statuses'])"
   ]
  },
  {
   "cell_type": "code",
   "execution_count": 11,
   "metadata": {},
   "outputs": [
    {
     "data": {
      "text/html": [
       "<div>\n",
       "<style>\n",
       "    .dataframe thead tr:only-child th {\n",
       "        text-align: right;\n",
       "    }\n",
       "\n",
       "    .dataframe thead th {\n",
       "        text-align: left;\n",
       "    }\n",
       "\n",
       "    .dataframe tbody tr th {\n",
       "        vertical-align: top;\n",
       "    }\n",
       "</style>\n",
       "<table border=\"1\" class=\"dataframe\">\n",
       "  <thead>\n",
       "    <tr style=\"text-align: right;\">\n",
       "      <th></th>\n",
       "      <th>truncated</th>\n",
       "      <th>favorited</th>\n",
       "      <th>retweeted</th>\n",
       "      <th>contributors</th>\n",
       "      <th>retweet_count</th>\n",
       "      <th>favorite_count</th>\n",
       "    </tr>\n",
       "  </thead>\n",
       "  <tbody>\n",
       "    <tr>\n",
       "      <th>0</th>\n",
       "      <td>False</td>\n",
       "      <td>False</td>\n",
       "      <td>False</td>\n",
       "      <td>None</td>\n",
       "      <td>19</td>\n",
       "      <td>0</td>\n",
       "    </tr>\n",
       "    <tr>\n",
       "      <th>1</th>\n",
       "      <td>False</td>\n",
       "      <td>False</td>\n",
       "      <td>False</td>\n",
       "      <td>None</td>\n",
       "      <td>25</td>\n",
       "      <td>0</td>\n",
       "    </tr>\n",
       "    <tr>\n",
       "      <th>2</th>\n",
       "      <td>False</td>\n",
       "      <td>False</td>\n",
       "      <td>False</td>\n",
       "      <td>None</td>\n",
       "      <td>1</td>\n",
       "      <td>0</td>\n",
       "    </tr>\n",
       "    <tr>\n",
       "      <th>3</th>\n",
       "      <td>False</td>\n",
       "      <td>False</td>\n",
       "      <td>False</td>\n",
       "      <td>None</td>\n",
       "      <td>33</td>\n",
       "      <td>0</td>\n",
       "    </tr>\n",
       "    <tr>\n",
       "      <th>4</th>\n",
       "      <td>False</td>\n",
       "      <td>False</td>\n",
       "      <td>False</td>\n",
       "      <td>None</td>\n",
       "      <td>0</td>\n",
       "      <td>0</td>\n",
       "    </tr>\n",
       "  </tbody>\n",
       "</table>\n",
       "</div>"
      ],
      "text/plain": [
       "   truncated  favorited  retweeted contributors  retweet_count  favorite_count\n",
       "0      False      False      False         None             19               0\n",
       "1      False      False      False         None             25               0\n",
       "2      False      False      False         None              1               0\n",
       "3      False      False      False         None             33               0\n",
       "4      False      False      False         None              0               0"
      ]
     },
     "execution_count": 11,
     "metadata": {},
     "output_type": "execute_result"
    }
   ],
   "source": [
    "data[['truncated', 'favorited', 'retweeted', 'contributors', 'retweet_count', 'favorite_count']].head()"
   ]
  },
  {
   "cell_type": "code",
   "execution_count": 12,
   "metadata": {},
   "outputs": [
    {
     "data": {
      "text/html": [
       "<div>\n",
       "<style>\n",
       "    .dataframe thead tr:only-child th {\n",
       "        text-align: right;\n",
       "    }\n",
       "\n",
       "    .dataframe thead th {\n",
       "        text-align: left;\n",
       "    }\n",
       "\n",
       "    .dataframe tbody tr th {\n",
       "        vertical-align: top;\n",
       "    }\n",
       "</style>\n",
       "<table border=\"1\" class=\"dataframe\">\n",
       "  <thead>\n",
       "    <tr style=\"text-align: right;\">\n",
       "      <th></th>\n",
       "      <th>place</th>\n",
       "      <th>geo</th>\n",
       "      <th>coordinates</th>\n",
       "    </tr>\n",
       "  </thead>\n",
       "  <tbody>\n",
       "    <tr>\n",
       "      <th>0</th>\n",
       "      <td>None</td>\n",
       "      <td>None</td>\n",
       "      <td>None</td>\n",
       "    </tr>\n",
       "    <tr>\n",
       "      <th>1</th>\n",
       "      <td>None</td>\n",
       "      <td>None</td>\n",
       "      <td>None</td>\n",
       "    </tr>\n",
       "    <tr>\n",
       "      <th>2</th>\n",
       "      <td>None</td>\n",
       "      <td>None</td>\n",
       "      <td>None</td>\n",
       "    </tr>\n",
       "    <tr>\n",
       "      <th>3</th>\n",
       "      <td>None</td>\n",
       "      <td>None</td>\n",
       "      <td>None</td>\n",
       "    </tr>\n",
       "    <tr>\n",
       "      <th>4</th>\n",
       "      <td>None</td>\n",
       "      <td>None</td>\n",
       "      <td>None</td>\n",
       "    </tr>\n",
       "  </tbody>\n",
       "</table>\n",
       "</div>"
      ],
      "text/plain": [
       "  place   geo coordinates\n",
       "0  None  None        None\n",
       "1  None  None        None\n",
       "2  None  None        None\n",
       "3  None  None        None\n",
       "4  None  None        None"
      ]
     },
     "execution_count": 12,
     "metadata": {},
     "output_type": "execute_result"
    }
   ],
   "source": [
    "data[['place', 'geo', 'coordinates']].head()"
   ]
  },
  {
   "cell_type": "markdown",
   "metadata": {},
   "source": [
    "### Data Stream"
   ]
  },
  {
   "cell_type": "code",
   "execution_count": 13,
   "metadata": {
    "collapsed": true
   },
   "outputs": [],
   "source": [
    "from time import time, sleep \n",
    "from tweepy import Stream\n",
    "from tweepy.streaming import StreamListener\n",
    "\n",
    "\n",
    "class TwitterStream(TwitterClient):\n",
    "\n",
    "    class TweetListener(StreamListener):\n",
    "        def __init__(self, broadcast, handle, count, timer):\n",
    "            '''\n",
    "            define broadcast and error-handle methods\n",
    "            set count: how many tweets before disconnect\n",
    "            set timer: seconds run before disconnect\n",
    "            '''\n",
    "            self.broadcast = broadcast\n",
    "            self.handle = handle\n",
    "            self.limit = count\n",
    "            self.count = 0\n",
    "            self.timer = time() + timer\n",
    "\n",
    "        def on_data(self, data):\n",
    "            self.broadcast(data)\n",
    "            self.count += 1\n",
    "            if self.limit and self.count > self.limit:\n",
    "                return False  # disconnect: exceeded conf count\n",
    "            if self.timer < time():\n",
    "                return False  # disconnect: exceeded time limit\n",
    "            return True\n",
    "\n",
    "        def on_error(self, status):\n",
    "            self.handle(status)\n",
    "            if status == 420: # disconnect: exceeded API connection failure limit\n",
    "                return False\n",
    "            return True\n",
    "\n",
    "\n",
    "    def stream(self,\n",
    "               query, geo = False,\n",
    "               broadcast = print, handle = print,\n",
    "               count = False, timer = 60,\n",
    "               async = True):\n",
    "        '''\n",
    "        stream tweets matching query with/or geo-filter\n",
    "        '''\n",
    "        if query == '': # get anything with geo\n",
    "            geo = True\n",
    "            keywords = []\n",
    "        else:\n",
    "            keywords = query.split(',')\n",
    "\n",
    "        tweets = Stream(self.auth, self.TweetListener(broadcast, handle, count, timer))\n",
    "        if geo:\n",
    "            tweets.filter(track = keywords, locations = [-180,-90,180,90], async = async)\n",
    "        else:\n",
    "            tweets.filter(track = keywords, async = async)\n"
   ]
  },
  {
   "cell_type": "code",
   "execution_count": 14,
   "metadata": {},
   "outputs": [
    {
     "name": "stdout",
     "output_type": "stream",
     "text": [
      "\n",
      "----------------------------------------------\n",
      "Can you recommend anyone for this #job? barista - Store# 02303, CHAGRIN &amp; GREEN - https://t.co/Bb35XS0tis #CustomerService #Beachwood, OH\n",
      "\n",
      "----------------------------------------------\n",
      "I wish it hadn't taken me this long to realise that I made the ring decision, I would of gone through all the tough… https://t.co/4LL3kwQvI0\n",
      "\n",
      "----------------------------------------------\n",
      "أنا من حُبي لك تسألني حتى الروح هو قلبي أنا أوحضرتك راعيه\" تخييييل؟.\n",
      "\n",
      "----------------------------------------------\n",
      "If I’m not at COM or at work I’m with tha homies lol busy life\n",
      "\n",
      "----------------------------------------------\n",
      "All the Police Chiefs in Anderson County in one photo to help us with the Drug Take Back day at Clinton Police Depa… https://t.co/jIHsORoYhP\n",
      "\n",
      "----------------------------------------------\n",
      "@ShowTV @GkhnAlkanOnline @kalpatisitv Bu ne bicim soru TABİKİ HAYIR DALGAMI GECİYIRSUN BİZİMLE https://t.co/Nd4xvNIuOd\n",
      "\n",
      "----------------------------------------------\n",
      "#meetmatte #thebalmcosmetics! ❤💜💙💄💋😍 αγαπημένα ανεξίτηλα @ Geo makeup Shop https://t.co/52YP8aC9Qz\n",
      "\n",
      "----------------------------------------------\n",
      "@Maycee_Kroening Yep i got you let’s go\n",
      "\n",
      "----------------------------------------------\n",
      "Ela nasceu na Zona Sul e eu sou da favela .. 🎵\n",
      "\n",
      "----------------------------------------------\n",
      "लगता है, बहुत सही कह रहे हो। https://t.co/H7hXHom91l\n",
      "\n",
      "----------------------------------------------\n",
      "Pobrisima actuación de la #Selección Argentina con un rival de categoría inferior. Preocupante actuación defensiva,… https://t.co/YlwiYchyGv\n"
     ]
    }
   ],
   "source": [
    "import json\n",
    "\n",
    "# save arriving tweets in variable <sample>\n",
    "# disconnect when hit the required number\n",
    "sample = []\n",
    "def collect(data):\n",
    "    data = json.loads(data)\n",
    "    print('\\n----------------------------------------------\\n{}'.format(data['text']))\n",
    "    sample.append(data)\n",
    "\n",
    "twitter = TwitterStream()\n",
    "twitter.stream('', geo = True, broadcast = collect, count = 10, async = False)"
   ]
  },
  {
   "cell_type": "code",
   "execution_count": 15,
   "metadata": {},
   "outputs": [
    {
     "name": "stdout",
     "output_type": "stream",
     "text": [
      "attributes                          dict\n",
      "bounding_box                        dict\n",
      "country                             str\n",
      "country_code                        str\n",
      "full_name                           str\n",
      "id                                  str\n",
      "name                                str\n",
      "place_type                          str\n",
      "url                                 str\n",
      "\n",
      "Nested objects:\n",
      "\tattributes\n",
      "\tbounding_box\n"
     ]
    }
   ],
   "source": [
    "# geo = True filters tweets with nested object <place> populated\n",
    "quick_look(sample[0]['place'])"
   ]
  },
  {
   "cell_type": "code",
   "execution_count": 16,
   "metadata": {},
   "outputs": [
    {
     "name": "stdout",
     "output_type": "stream",
     "text": [
      "coordinates                         list\n",
      "type                                str\n"
     ]
    }
   ],
   "source": [
    "quick_look(sample[0]['place']['bounding_box'])"
   ]
  },
  {
   "cell_type": "code",
   "execution_count": 17,
   "metadata": {},
   "outputs": [
    {
     "data": {
      "text/plain": [
       "{'coordinates': [[[-81.532635, 41.449669],\n",
       "   [-81.532635, 41.501448],\n",
       "   [-81.48037, 41.501448],\n",
       "   [-81.48037, 41.449669]]],\n",
       " 'type': 'Polygon'}"
      ]
     },
     "execution_count": 17,
     "metadata": {},
     "output_type": "execute_result"
    }
   ],
   "source": [
    "sample[0]['place']['bounding_box']"
   ]
  },
  {
   "cell_type": "markdown",
   "metadata": {},
   "source": [
    "### Processing\n",
    "For a simple stream-visualization app we are going to use some [data aggregation](Aggregation.ipynb) and some [basic sentiment analysis](Sentiment.ipynb)."
   ]
  },
  {
   "cell_type": "code",
   "execution_count": null,
   "metadata": {
    "collapsed": true
   },
   "outputs": [],
   "source": []
  }
 ],
 "metadata": {
  "kernelspec": {
   "display_name": "Python 3",
   "language": "python",
   "name": "python3"
  },
  "language_info": {
   "codemirror_mode": {
    "name": "ipython",
    "version": 3
   },
   "file_extension": ".py",
   "mimetype": "text/x-python",
   "name": "python",
   "nbconvert_exporter": "python",
   "pygments_lexer": "ipython3",
   "version": "3.5.2"
  }
 },
 "nbformat": 4,
 "nbformat_minor": 2
}
